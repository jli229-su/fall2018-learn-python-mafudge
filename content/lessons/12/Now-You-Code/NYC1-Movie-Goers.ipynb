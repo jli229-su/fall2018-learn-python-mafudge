{
 "cells": [
  {
   "cell_type": "markdown",
   "metadata": {},
   "source": [
    "# Now You Code 1: Data Analysis of Movie Goers\n",
    "\n",
    "In this assignment you will perform a data analysis of people who go to the movies. \n",
    "\n",
    "A movie theatre chain asked movie goers to fill out a quick survey in exchange for a 1/2 price ticket. The survey asked for basic demographics: age, gender, occupation and zip code. This survey results are contained in the data file `'NYC1-moviegoers.csv'`\n",
    "\n",
    "In this assignment you will write a series of Python pandas code (in several cells) to answer some basic questions about the responses in the dataset.\n"
   ]
  },
  {
   "cell_type": "code",
   "execution_count": 1,
   "metadata": {},
   "outputs": [],
   "source": [
    "# this turns off warning messages\n",
    "import warnings\n",
    "warnings.filterwarnings('ignore')"
   ]
  },
  {
   "cell_type": "markdown",
   "metadata": {},
   "source": [
    "### Part 1: Load the dataset\n",
    "\n",
    "write code to import pandas and load the dataset (in csv format) into the variable `moviegoers` and then print a random sample of 5 people from the data set."
   ]
  },
  {
   "cell_type": "code",
   "execution_count": 14,
   "metadata": {},
   "outputs": [
    {
     "data": {
      "text/html": [
       "<div>\n",
       "<style scoped>\n",
       "    .dataframe tbody tr th:only-of-type {\n",
       "        vertical-align: middle;\n",
       "    }\n",
       "\n",
       "    .dataframe tbody tr th {\n",
       "        vertical-align: top;\n",
       "    }\n",
       "\n",
       "    .dataframe thead th {\n",
       "        text-align: right;\n",
       "    }\n",
       "</style>\n",
       "<table border=\"1\" class=\"dataframe\">\n",
       "  <thead>\n",
       "    <tr style=\"text-align: right;\">\n",
       "      <th></th>\n",
       "      <th>user_id</th>\n",
       "      <th>age</th>\n",
       "      <th>gender</th>\n",
       "      <th>occupation</th>\n",
       "      <th>zip_code</th>\n",
       "    </tr>\n",
       "  </thead>\n",
       "  <tbody>\n",
       "    <tr>\n",
       "      <th>111</th>\n",
       "      <td>112</td>\n",
       "      <td>30</td>\n",
       "      <td>M</td>\n",
       "      <td>salesman</td>\n",
       "      <td>60613</td>\n",
       "    </tr>\n",
       "    <tr>\n",
       "      <th>726</th>\n",
       "      <td>727</td>\n",
       "      <td>25</td>\n",
       "      <td>M</td>\n",
       "      <td>student</td>\n",
       "      <td>78741</td>\n",
       "    </tr>\n",
       "    <tr>\n",
       "      <th>858</th>\n",
       "      <td>859</td>\n",
       "      <td>18</td>\n",
       "      <td>F</td>\n",
       "      <td>other</td>\n",
       "      <td>6492</td>\n",
       "    </tr>\n",
       "    <tr>\n",
       "      <th>530</th>\n",
       "      <td>531</td>\n",
       "      <td>30</td>\n",
       "      <td>F</td>\n",
       "      <td>salesman</td>\n",
       "      <td>97408</td>\n",
       "    </tr>\n",
       "    <tr>\n",
       "      <th>626</th>\n",
       "      <td>627</td>\n",
       "      <td>24</td>\n",
       "      <td>M</td>\n",
       "      <td>engineer</td>\n",
       "      <td>8034</td>\n",
       "    </tr>\n",
       "  </tbody>\n",
       "</table>\n",
       "</div>"
      ],
      "text/plain": [
       "     user_id  age gender occupation zip_code\n",
       "111      112   30      M   salesman    60613\n",
       "726      727   25      M    student    78741\n",
       "858      859   18      F      other     6492\n",
       "530      531   30      F   salesman    97408\n",
       "626      627   24      M   engineer     8034"
      ]
     },
     "execution_count": 14,
     "metadata": {},
     "output_type": "execute_result"
    }
   ],
   "source": [
    "import pandas as pd\n",
    "import numpy as np\n",
    "\n",
    "moviegoers = pd.read_csv('NYC1-moviegoers.csv')\n",
    "moviegoers.sample(5)"
   ]
  },
  {
   "cell_type": "markdown",
   "metadata": {},
   "source": [
    "### Part 2: Gender distribution \n",
    "\n",
    "How many males and females filled out our data set? \n",
    "\n",
    "Write a single line of Python Pandas code to count the genders in the data set. (There should be M = 670, F = 273)\n",
    "\n",
    "**HINT:** Select the `gender` column then use a built-in series method to count the values in the series."
   ]
  },
  {
   "cell_type": "code",
   "execution_count": 3,
   "metadata": {},
   "outputs": [
    {
     "data": {
      "text/plain": [
       "M    670\n",
       "F    273\n",
       "Name: gender, dtype: int64"
      ]
     },
     "execution_count": 3,
     "metadata": {},
     "output_type": "execute_result"
    }
   ],
   "source": [
    "moviegoers['gender'].value_counts()"
   ]
  },
  {
   "cell_type": "markdown",
   "metadata": {},
   "source": [
    "### Part 3: People without jobs\n",
    "\n",
    "Who are the survey respondents without jobs? \n",
    "\n",
    "Write Python Pandas code to create a variable `no_occupation` which filters the `moviegoers` data set to only those survey respondents with an ocupation of `'none'`.  (There should be 9 people)\n"
   ]
  },
  {
   "cell_type": "code",
   "execution_count": 24,
   "metadata": {},
   "outputs": [
    {
     "data": {
      "text/plain": [
       "9"
      ]
     },
     "execution_count": 24,
     "metadata": {},
     "output_type": "execute_result"
    }
   ],
   "source": [
    "no_occupation = moviegoers[moviegoers['occupation'] =='none']\n",
    "no_occupation['user_id'].count()"
   ]
  },
  {
   "cell_type": "markdown",
   "metadata": {},
   "source": [
    "### Part 4: Gender distribution of people without jobs.\n",
    "\n",
    "What is the gender distribution of the 9 respondents without jobs? \n",
    "\n",
    "Write Python Pandas code to display this. \n",
    "\n",
    "**HINT:** Use the variable `no_occupation` from the previous step."
   ]
  },
  {
   "cell_type": "code",
   "execution_count": 25,
   "metadata": {},
   "outputs": [
    {
     "data": {
      "text/plain": [
       "M    0.555556\n",
       "F    0.444444\n",
       "Name: gender, dtype: float64"
      ]
     },
     "execution_count": 25,
     "metadata": {},
     "output_type": "execute_result"
    }
   ],
   "source": [
    "no_occupation['gender'].value_counts()\n",
    "no_occupation['gender'].value_counts(normalize=True)"
   ]
  },
  {
   "cell_type": "markdown",
   "metadata": {},
   "source": [
    "### Part 5: Young Artists\n",
    "\n",
    "Write Python Pandas code to display the count of respondents with an occupation of artist who are 21 and under. (There should be 5)\n",
    "\n",
    "**HINT:** You can either set each Pandas filter to a new `DataFrame` variable or try to chain the filters together. Also display them before you try and count them."
   ]
  },
  {
   "cell_type": "code",
   "execution_count": 37,
   "metadata": {},
   "outputs": [
    {
     "data": {
      "text/plain": [
       "21andUnder    5\n",
       "Name: AgeCat, dtype: int64"
      ]
     },
     "execution_count": 37,
     "metadata": {},
     "output_type": "execute_result"
    }
   ],
   "source": [
    "artists['AgeCat'] = np.nan\n",
    "artists = moviegoers[moviegoers['occupation']=='artist']\n",
    "artists['AgeCat'][ artists['age'] <=21 ] = '21andUnder'\n",
    "##artists['AgeCat'][ artists['age'] > 21 ] = 'above21'\n",
    "artists.sample(5)\n",
    "artists['AgeCat'].value_counts()"
   ]
  },
  {
   "cell_type": "markdown",
   "metadata": {},
   "source": [
    "### Part 6: Distribution by age group\n",
    "\n",
    "The movie theater which conducted this survey prices their tickets by age group:\n",
    "\n",
    " - Youth (age 18 and under) $7.50 \n",
    " \n",
    " - Adult (age 19 55) $12.50 \n",
    " \n",
    " - Senior (age 56 and up) $8.50 \n",
    "\n",
    "Write python code to count the number of moviegoers in each of these age groups.\n",
    "\n",
    "Your counts should be as follows:\n",
    "```\n",
    "Adult     837\n",
    "Youth      54\n",
    "Senior     52\n",
    "```\n",
    "\n",
    "**HINT:** You must perform feature engineering. Create a new column `'age_group'` and use the `'age'` column to assign one or more values to the age group. After you create the column and set the values get a count of values for the `'age_group'` column.\n",
    "\n"
   ]
  },
  {
   "cell_type": "code",
   "execution_count": 43,
   "metadata": {},
   "outputs": [
    {
     "data": {
      "text/plain": [
       "Adult     837\n",
       "Youth      54\n",
       "Senior     52\n",
       "Name: age_group, dtype: int64"
      ]
     },
     "execution_count": 43,
     "metadata": {},
     "output_type": "execute_result"
    }
   ],
   "source": [
    "moviegoers['age_group'] = np.nan\n",
    "moviegoers['age_group'][ moviegoers['age'] <=18 ] = 'Youth'\n",
    "moviegoers['age_group'][ moviegoers['age'] >18] = 'Adult'\n",
    "moviegoers['age_group'][ moviegoers['age'] >55] = 'Senior'\n",
    "moviegoers['age_group'].value_counts()"
   ]
  },
  {
   "cell_type": "markdown",
   "metadata": {},
   "source": [
    "## Step 7: Questions\n",
    "\n",
    "1. Pandas programs are different than typical Python programs. Explain the process by which you got the final solution?\n",
    "##pandas calculate the perventage or number in one sentence.\n",
    "2. What was the most difficult aspect of this assignment? \n",
    "##trying to figure out the group name to denfinate values."
   ]
  },
  {
   "cell_type": "markdown",
   "metadata": {},
   "source": [
    "## Reminder of Evaluation Criteria\n",
    "\n",
    "1. What the problem attempted (analysis, code, and answered questions) ?\n",
    "2. What the problem analysis thought out? (does the program match the plan?)\n",
    "3. Does the code execute without syntax error?\n",
    "4. Does the code solve the intended problem?\n",
    "5. Is the code well written? (easy to understand, modular, and self-documenting, handles errors)"
   ]
  },
  {
   "cell_type": "code",
   "execution_count": null,
   "metadata": {},
   "outputs": [],
   "source": []
  }
 ],
 "metadata": {
  "anaconda-cloud": {},
  "kernelspec": {
   "display_name": "Python 3",
   "language": "python",
   "name": "python3"
  },
  "language_info": {
   "codemirror_mode": {
    "name": "ipython",
    "version": 3
   },
   "file_extension": ".py",
   "mimetype": "text/x-python",
   "name": "python",
   "nbconvert_exporter": "python",
   "pygments_lexer": "ipython3",
   "version": "3.6.6"
  }
 },
 "nbformat": 4,
 "nbformat_minor": 1
}
