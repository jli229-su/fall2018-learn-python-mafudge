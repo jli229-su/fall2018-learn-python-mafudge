{
 "cells": [
  {
   "cell_type": "markdown",
   "metadata": {},
   "source": [
    "# Now You Code 4: Syracuse Weather\n",
    "\n",
    "Write a program to load the Syracuse weather data from Dec 2015 in\n",
    "JSON format into a Python list of dictionary. \n",
    "\n",
    "The file with the weather data is in your `Now-You-Code` folder: `\"NYC4-syr-weather-dec-2015.json\"`\n",
    "\n",
    "You should load this data into a Python list of dictionary using the `json` package. \n",
    "\n",
    "After you load this data, loop over the list of weather items and record whether or not the `'Mean TemperatureF'` is above or below freezing. \n",
    "\n",
    "Sort this information into a separate Python dictionary, called `stats` so you can print it out like this:\n",
    "```\n",
    "{'below-freezing': 4, 'above-freezing': 27}\n",
    "```\n",
    "\n"
   ]
  },
  {
   "cell_type": "markdown",
   "metadata": {
    "collapsed": true
   },
   "source": [
    "## Step 1: Problem Analysis `input_address` function\n",
    "\n",
    "This function should get input from the user at run time and return the input address.\n",
    "\n",
    "Inputs: None (gets input from user)\n",
    "1. user input\n",
    "2. file we read from\n",
    "\n",
    "Outputs: a Python dictionary of address info (street, city, state, postal_code)\n",
    "1. dictrionary\n",
    "2. below counts\n",
    "3. above counts\n",
    "\n",
    "Algorithm (Steps in Program):\n",
    "1. open file for reading\n",
    "2. read the entire file, conver to phthon format\n",
    "3. create weather dictionary\n",
    "4. for everyday of weather determine if the remp was above or below freezing\n",
    "5. add the count to above or below\n",
    "6. print the entire dictionary\n"
   ]
  },
  {
   "cell_type": "code",
   "execution_count": 2,
   "metadata": {},
   "outputs": [
    {
     "name": "stdout",
     "output_type": "stream",
     "text": [
      "{'abovefreezing': 27, 'belowfreezing': 0, 'belovefreezing': 1}\n"
     ]
    }
   ],
   "source": [
    "# Step 2: Write code\n",
    "import json\n",
    "\n",
    "freezing = {'abovefreezing':0,'belowfreezing':0}\n",
    "with open (\"NYC4-syr-weather-dec-2015.json\",'r',encoding = 'utf8') as f:\n",
    "    weather = json.loads(f.read())\n",
    "    \n",
    "for days in weather:\n",
    "    if days['Mean TemperatureF'] > 32:\n",
    "        freezing['abovefreezing']= freezing[\"abovefreezing\"] + 1\n",
    "    else:\n",
    "        freezing['belovefreezing']= freezing['belowfreezing'] + 1\n",
    "    \n",
    "#print(weather)\n",
    "print(freezing)\n"
   ]
  },
  {
   "cell_type": "markdown",
   "metadata": {},
   "source": [
    "## Step 3: Questions\n",
    "\n",
    "1. What are the advantages to storing the number of days above freezing and below freezing in a Python dictionary? It is statical and it helps to get track of days below or above average tempreture.\n",
    "2. What is the data type of the weather data as it is read from the file `NYC4-syr-weather-dec-2015.json` ? STRING\n",
    "3. Could this same program work for weather at other times in other cities? What conditions would need to be met for this to happen? Yes. The program needs to put records into differnt and distinctive parts to met for this."
   ]
  },
  {
   "cell_type": "markdown",
   "metadata": {},
   "source": [
    "## Reminder of Evaluation Criteria\n",
    "\n",
    "1. What the problem attempted (analysis, code, and answered questions) ?\n",
    "2. What the problem analysis thought out? (does the program match the plan?)\n",
    "3. Does the code execute without syntax error?\n",
    "4. Does the code solve the intended problem?\n",
    "5. Is the code well written? (easy to understand, modular, and self-documenting, handles errors)\n"
   ]
  }
 ],
 "metadata": {
  "anaconda-cloud": {},
  "kernelspec": {
   "display_name": "Python 3",
   "language": "python",
   "name": "python3"
  },
  "language_info": {
   "codemirror_mode": {
    "name": "ipython",
    "version": 3
   },
   "file_extension": ".py",
   "mimetype": "text/x-python",
   "name": "python",
   "nbconvert_exporter": "python",
   "pygments_lexer": "ipython3",
   "version": "3.6.6"
  }
 },
 "nbformat": 4,
 "nbformat_minor": 1
}
